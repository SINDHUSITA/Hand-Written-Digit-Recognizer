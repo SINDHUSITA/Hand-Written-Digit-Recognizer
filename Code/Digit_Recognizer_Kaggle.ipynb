{
  "nbformat": 4,
  "nbformat_minor": 0,
  "metadata": {
    "colab": {
      "name": "Digit_Recognizer_Kaggle.ipynb",
      "provenance": [],
      "authorship_tag": "ABX9TyNOFbguvF5VniZa6LXa8/J0",
      "include_colab_link": true
    },
    "kernelspec": {
      "name": "python3",
      "display_name": "Python 3"
    },
    "accelerator": "TPU"
  },
  "cells": [
    {
      "cell_type": "markdown",
      "metadata": {
        "id": "view-in-github",
        "colab_type": "text"
      },
      "source": [
        "<a href=\"https://colab.research.google.com/github/SINDHUSITA/Hand-Written-Digit-Recognizer/blob/master/Code/Digit_Recognizer_Kaggle.ipynb\" target=\"_parent\"><img src=\"https://colab.research.google.com/assets/colab-badge.svg\" alt=\"Open In Colab\"/></a>"
      ]
    },
    {
      "cell_type": "markdown",
      "metadata": {
        "id": "doc1QpYZRI3k",
        "colab_type": "text"
      },
      "source": [
        "#**Digit Recognizer**\n"
      ]
    },
    {
      "cell_type": "markdown",
      "metadata": {
        "id": "lFPjPgClRMDA",
        "colab_type": "text"
      },
      "source": [
        "##Importing Required Packages"
      ]
    },
    {
      "cell_type": "code",
      "metadata": {
        "id": "kem4D_7dPsyQ",
        "colab_type": "code",
        "colab": {}
      },
      "source": [
        "import tensorflow as tf\n",
        "from tensorflow import keras\n",
        "import pandas as pd\n",
        "import numpy as np\n",
        "import sklearn"
      ],
      "execution_count": 1,
      "outputs": []
    },
    {
      "cell_type": "markdown",
      "metadata": {
        "id": "_4tubjYtRa05",
        "colab_type": "text"
      },
      "source": [
        "##Importing Data"
      ]
    },
    {
      "cell_type": "code",
      "metadata": {
        "id": "W2mDAiZYRHOZ",
        "colab_type": "code",
        "colab": {
          "base_uri": "https://localhost:8080/",
          "height": 34
        },
        "outputId": "e2aadcf9-6b53-4abe-9965-c13c4fb8b83d"
      },
      "source": [
        "train = pd.read_csv(\"train.csv\")\n",
        "X = train.iloc[:,1:].values\n",
        "y = train.iloc[:,0:1].values\n",
        "print(X.shape,y.shape)"
      ],
      "execution_count": 2,
      "outputs": [
        {
          "output_type": "stream",
          "text": [
            "(42000, 784) (42000, 1)\n"
          ],
          "name": "stdout"
        }
      ]
    },
    {
      "cell_type": "markdown",
      "metadata": {
        "id": "hEaRGggyTAtf",
        "colab_type": "text"
      },
      "source": [
        "##Spliting Data"
      ]
    },
    {
      "cell_type": "code",
      "metadata": {
        "id": "MVAwtWPQSdE1",
        "colab_type": "code",
        "colab": {
          "base_uri": "https://localhost:8080/",
          "height": 34
        },
        "outputId": "8b000247-9e12-471b-de8f-b2cf2ab3c924"
      },
      "source": [
        "from sklearn.model_selection import train_test_split\n",
        "X_train, X_test, y_train, y_test = train_test_split(X, y, test_size=0.25, random_state=0)\n",
        "print(X_train.shape, X_test.shape, y_train.shape, y_test.shape)"
      ],
      "execution_count": 3,
      "outputs": [
        {
          "output_type": "stream",
          "text": [
            "(31500, 784) (10500, 784) (31500, 1) (10500, 1)\n"
          ],
          "name": "stdout"
        }
      ]
    },
    {
      "cell_type": "markdown",
      "metadata": {
        "id": "4n7DvcT5VC6d",
        "colab_type": "text"
      },
      "source": [
        "##Buliding a Deep Learning Model"
      ]
    },
    {
      "cell_type": "code",
      "metadata": {
        "id": "yCgC5TihT-J_",
        "colab_type": "code",
        "colab": {
          "base_uri": "https://localhost:8080/",
          "height": 374
        },
        "outputId": "006a4452-1389-4705-ab21-2599ae8bfa8a"
      },
      "source": [
        "X_train = X_train/255.0\n",
        "X_test = X_test/255.0\n",
        "\n",
        "X_train = X_train.reshape(X_train.shape[0], 28, 28, 1)\n",
        "X_test = X_test.reshape(X_test.shape[0], 28, 28, 1)\n",
        "\n",
        "model = tf.keras.models.Sequential([tf.keras.layers.Conv2D(32, (3,3), activation='relu'),\n",
        "                                    tf.keras.layers.MaxPooling2D(2, 2),\n",
        "                                    tf.keras.layers.Conv2D(64, (3,3), activation='relu'),\n",
        "                                    tf.keras.layers.MaxPooling2D(2,2),\n",
        "                                    tf.keras.layers.Dropout(0.25),\n",
        "                                    tf.keras.layers.Flatten(), \n",
        "                                    tf.keras.layers.Dropout(0.5),\n",
        "                                    tf.keras.layers.Dense(1024, activation=tf.nn.relu),\n",
        "                                    tf.keras.layers.Dense(1024, activation=tf.nn.relu),\n",
        "                                    tf.keras.layers.Dense(10, activation=tf.nn.softmax)])\n",
        "model.compile(optimizer = tf.optimizers.Adam(),\n",
        "              loss = 'sparse_categorical_crossentropy',\n",
        "              metrics=['accuracy'])\n",
        "\n",
        "model.fit(X_train, y_train, epochs=10, batch_size=128)"
      ],
      "execution_count": 4,
      "outputs": [
        {
          "output_type": "stream",
          "text": [
            "Epoch 1/10\n",
            "247/247 [==============================] - 36s 147ms/step - loss: 0.3099 - accuracy: 0.9012\n",
            "Epoch 2/10\n",
            "247/247 [==============================] - 37s 148ms/step - loss: 0.0970 - accuracy: 0.9691\n",
            "Epoch 3/10\n",
            "247/247 [==============================] - 41s 167ms/step - loss: 0.0721 - accuracy: 0.9769\n",
            "Epoch 4/10\n",
            "247/247 [==============================] - 37s 148ms/step - loss: 0.0651 - accuracy: 0.9782\n",
            "Epoch 5/10\n",
            "247/247 [==============================] - 36s 147ms/step - loss: 0.0517 - accuracy: 0.9834\n",
            "Epoch 6/10\n",
            "247/247 [==============================] - 36s 146ms/step - loss: 0.0471 - accuracy: 0.9840\n",
            "Epoch 7/10\n",
            "247/247 [==============================] - 36s 146ms/step - loss: 0.0426 - accuracy: 0.9859\n",
            "Epoch 8/10\n",
            "247/247 [==============================] - 36s 147ms/step - loss: 0.0384 - accuracy: 0.9876\n",
            "Epoch 9/10\n",
            "247/247 [==============================] - 36s 146ms/step - loss: 0.0379 - accuracy: 0.9877\n",
            "Epoch 10/10\n",
            "247/247 [==============================] - 36s 147ms/step - loss: 0.0361 - accuracy: 0.9886\n"
          ],
          "name": "stdout"
        },
        {
          "output_type": "execute_result",
          "data": {
            "text/plain": [
              "<tensorflow.python.keras.callbacks.History at 0x7f3505df4198>"
            ]
          },
          "metadata": {
            "tags": []
          },
          "execution_count": 4
        }
      ]
    },
    {
      "cell_type": "code",
      "metadata": {
        "id": "RTxmf-lzVtUk",
        "colab_type": "code",
        "colab": {
          "base_uri": "https://localhost:8080/",
          "height": 51
        },
        "outputId": "dce27015-f72e-4d9b-ceeb-8c19e0f531bd"
      },
      "source": [
        "model.evaluate(X_test, y_test)"
      ],
      "execution_count": 5,
      "outputs": [
        {
          "output_type": "stream",
          "text": [
            "329/329 [==============================] - 5s 15ms/step - loss: 0.0312 - accuracy: 0.9910\n"
          ],
          "name": "stdout"
        },
        {
          "output_type": "execute_result",
          "data": {
            "text/plain": [
              "[0.031177649274468422, 0.9909523725509644]"
            ]
          },
          "metadata": {
            "tags": []
          },
          "execution_count": 5
        }
      ]
    },
    {
      "cell_type": "markdown",
      "metadata": {
        "id": "VdsHAOiZJiIH",
        "colab_type": "text"
      },
      "source": [
        "## Model Evaluation and Testing"
      ]
    },
    {
      "cell_type": "code",
      "metadata": {
        "id": "lM0K1qwwWI0G",
        "colab_type": "code",
        "colab": {
          "base_uri": "https://localhost:8080/",
          "height": 34
        },
        "outputId": "fef3e55c-280c-4905-ee26-63c07de9fc35"
      },
      "source": [
        "test = pd.read_csv('test.csv')\n",
        "test = test.values\n",
        "test = test.reshape(test.shape[0], 28, 28, 1)\n",
        "test = test / 255.0\n",
        "\n",
        "y_pred = model.predict(test)\n",
        "print(y_pred.shape)"
      ],
      "execution_count": 6,
      "outputs": [
        {
          "output_type": "stream",
          "text": [
            "(28000, 10)\n"
          ],
          "name": "stdout"
        }
      ]
    },
    {
      "cell_type": "markdown",
      "metadata": {
        "id": "um_Lb5B3nBEZ",
        "colab_type": "text"
      },
      "source": [
        "## Saving the final results file for submission"
      ]
    },
    {
      "cell_type": "code",
      "metadata": {
        "id": "os2842gsY67R",
        "colab_type": "code",
        "colab": {
          "base_uri": "https://localhost:8080/",
          "height": 170
        },
        "outputId": "2b91b82d-f69f-46c1-88cf-3490a35cbdee"
      },
      "source": [
        "sample = pd.read_csv('sample_submission.csv')\n",
        "final = []\n",
        "for i in y_pred:\n",
        "  final.append(np.argmax(i))\n",
        "print(final[0:5])\n",
        "print(final[-5:-1])\n",
        "print(len(final))\n",
        "print(sample.shape)\n",
        "print(sample[-5:-1])"
      ],
      "execution_count": 7,
      "outputs": [
        {
          "output_type": "stream",
          "text": [
            "[2, 0, 9, 9, 3]\n",
            "[9, 7, 3, 9]\n",
            "28000\n",
            "(28000, 2)\n",
            "       ImageId  Label\n",
            "27995    27996      0\n",
            "27996    27997      0\n",
            "27997    27998      0\n",
            "27998    27999      0\n"
          ],
          "name": "stdout"
        }
      ]
    },
    {
      "cell_type": "code",
      "metadata": {
        "id": "OX_oyzggWbca",
        "colab_type": "code",
        "colab": {
          "base_uri": "https://localhost:8080/",
          "height": 51
        },
        "outputId": "489b2ae7-01c8-4553-efce-7181bd182fd7"
      },
      "source": [
        "Ids = np.arange(1,28001)\n",
        "df = pd.DataFrame(data={'ImageId':Ids,\"Label\": final})\n",
        "print(df.shape)\n",
        "print(sample.shape)\n",
        "df.to_csv(\"./digit_results.csv\", sep=',',index=False)"
      ],
      "execution_count": 8,
      "outputs": [
        {
          "output_type": "stream",
          "text": [
            "(28000, 2)\n",
            "(28000, 2)\n"
          ],
          "name": "stdout"
        }
      ]
    }
  ]
}