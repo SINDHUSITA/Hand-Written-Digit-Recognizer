{
  "nbformat": 4,
  "nbformat_minor": 0,
  "metadata": {
    "colab": {
      "name": "Digit_Recognizer.ipynb",
      "provenance": [],
      "authorship_tag": "ABX9TyPaf+24QDs/AfOKuz9n885m",
      "include_colab_link": true
    },
    "kernelspec": {
      "name": "python3",
      "display_name": "Python 3"
    },
    "accelerator": "TPU"
  },
  "cells": [
    {
      "cell_type": "markdown",
      "metadata": {
        "id": "view-in-github",
        "colab_type": "text"
      },
      "source": [
        "<a href=\"https://colab.research.google.com/github/SINDHUSITA/Hand-Written-Digit-Recognizer/blob/master/Digit_Recognizer.ipynb\" target=\"_parent\"><img src=\"https://colab.research.google.com/assets/colab-badge.svg\" alt=\"Open In Colab\"/></a>"
      ]
    },
    {
      "cell_type": "markdown",
      "metadata": {
        "colab_type": "text",
        "id": "0sOqRhPthrgD"
      },
      "source": [
        "#**Digit Recognizer**\n"
      ]
    },
    {
      "cell_type": "markdown",
      "metadata": {
        "id": "lFPjPgClRMDA",
        "colab_type": "text"
      },
      "source": [
        "##Importing Required Packages"
      ]
    },
    {
      "cell_type": "code",
      "metadata": {
        "id": "kem4D_7dPsyQ",
        "colab_type": "code",
        "colab": {}
      },
      "source": [
        "import tensorflow as tf\n",
        "from tensorflow import keras\n",
        "import pandas as pd\n",
        "import numpy as np\n",
        "import sklearn"
      ],
      "execution_count": 25,
      "outputs": []
    },
    {
      "cell_type": "markdown",
      "metadata": {
        "id": "_4tubjYtRa05",
        "colab_type": "text"
      },
      "source": [
        "##Importing Data"
      ]
    },
    {
      "cell_type": "code",
      "metadata": {
        "id": "W2mDAiZYRHOZ",
        "colab_type": "code",
        "colab": {
          "base_uri": "https://localhost:8080/",
          "height": 34
        },
        "outputId": "6d21b7c0-9721-464a-a407-a10594754f2e"
      },
      "source": [
        "train = pd.read_csv(\"train.csv\")\n",
        "X = train.iloc[:,1:].values\n",
        "y = train.iloc[:,0:1].values\n",
        "print(X.shape,y.shape)"
      ],
      "execution_count": 26,
      "outputs": [
        {
          "output_type": "stream",
          "text": [
            "(42000, 784) (42000, 1)\n"
          ],
          "name": "stdout"
        }
      ]
    },
    {
      "cell_type": "markdown",
      "metadata": {
        "id": "hEaRGggyTAtf",
        "colab_type": "text"
      },
      "source": [
        "##Spliting Data"
      ]
    },
    {
      "cell_type": "code",
      "metadata": {
        "id": "MVAwtWPQSdE1",
        "colab_type": "code",
        "colab": {
          "base_uri": "https://localhost:8080/",
          "height": 34
        },
        "outputId": "8797d3ec-4830-43bb-ef1b-3c45db9ea786"
      },
      "source": [
        "from sklearn.model_selection import train_test_split\n",
        "X_train, X_test, y_train, y_test = train_test_split(X, y, test_size=0.25, random_state=0)\n",
        "print(X_train.shape, X_test.shape, y_train.shape, y_test.shape)"
      ],
      "execution_count": 27,
      "outputs": [
        {
          "output_type": "stream",
          "text": [
            "(31500, 784) (10500, 784) (31500, 1) (10500, 1)\n"
          ],
          "name": "stdout"
        }
      ]
    },
    {
      "cell_type": "markdown",
      "metadata": {
        "id": "4n7DvcT5VC6d",
        "colab_type": "text"
      },
      "source": [
        "##Buliding a Deep Learning Model"
      ]
    },
    {
      "cell_type": "code",
      "metadata": {
        "id": "yCgC5TihT-J_",
        "colab_type": "code",
        "colab": {
          "base_uri": "https://localhost:8080/",
          "height": 374
        },
        "outputId": "a39bff9d-9da0-4783-ebdd-3b2420eee910"
      },
      "source": [
        "X_train = X_train/255.0\n",
        "X_test = X_test/255.0\n",
        "\n",
        "model = tf.keras.models.Sequential([\n",
        "                                    tf.keras.layers.Flatten(), \n",
        "                                    tf.keras.layers.Dense(256, activation=tf.nn.relu),\n",
        "                                    tf.keras.layers.Dense(256, activation=tf.nn.relu),\n",
        "                                    tf.keras.layers.Dense(256, activation=tf.nn.relu),\n",
        "                                    tf.keras.layers.Dense(256, activation=tf.nn.relu),\n",
        "                                    tf.keras.layers.Dense(10, activation=tf.nn.softmax)])\n",
        "model.compile(optimizer = tf.optimizers.Adam(),\n",
        "              loss = 'sparse_categorical_crossentropy',\n",
        "              metrics=['accuracy'])\n",
        "\n",
        "model.fit(X_train, y_train, epochs=10, batch_size=128)"
      ],
      "execution_count": 28,
      "outputs": [
        {
          "output_type": "stream",
          "text": [
            "Epoch 1/10\n",
            "247/247 [==============================] - 2s 9ms/step - loss: 0.3418 - accuracy: 0.8999\n",
            "Epoch 2/10\n",
            "247/247 [==============================] - 2s 9ms/step - loss: 0.1238 - accuracy: 0.9629\n",
            "Epoch 3/10\n",
            "247/247 [==============================] - 2s 9ms/step - loss: 0.0839 - accuracy: 0.9738\n",
            "Epoch 4/10\n",
            "247/247 [==============================] - 2s 10ms/step - loss: 0.0591 - accuracy: 0.9800\n",
            "Epoch 5/10\n",
            "247/247 [==============================] - 4s 15ms/step - loss: 0.0388 - accuracy: 0.9880\n",
            "Epoch 6/10\n",
            "247/247 [==============================] - 4s 15ms/step - loss: 0.0358 - accuracy: 0.9880\n",
            "Epoch 7/10\n",
            "247/247 [==============================] - 2s 9ms/step - loss: 0.0271 - accuracy: 0.9913\n",
            "Epoch 8/10\n",
            "247/247 [==============================] - 2s 9ms/step - loss: 0.0297 - accuracy: 0.9903\n",
            "Epoch 9/10\n",
            "247/247 [==============================] - 2s 9ms/step - loss: 0.0242 - accuracy: 0.9916\n",
            "Epoch 10/10\n",
            "247/247 [==============================] - 2s 9ms/step - loss: 0.0219 - accuracy: 0.9930\n"
          ],
          "name": "stdout"
        },
        {
          "output_type": "execute_result",
          "data": {
            "text/plain": [
              "<tensorflow.python.keras.callbacks.History at 0x7f427cf93a20>"
            ]
          },
          "metadata": {
            "tags": []
          },
          "execution_count": 28
        }
      ]
    },
    {
      "cell_type": "code",
      "metadata": {
        "id": "RTxmf-lzVtUk",
        "colab_type": "code",
        "colab": {
          "base_uri": "https://localhost:8080/",
          "height": 51
        },
        "outputId": "c948ec48-71f1-4c69-f907-95c08c925818"
      },
      "source": [
        "model.evaluate(X_test, y_test)"
      ],
      "execution_count": 29,
      "outputs": [
        {
          "output_type": "stream",
          "text": [
            "329/329 [==============================] - 1s 2ms/step - loss: 0.1154 - accuracy: 0.9740\n"
          ],
          "name": "stdout"
        },
        {
          "output_type": "execute_result",
          "data": {
            "text/plain": [
              "[0.11538320779800415, 0.9739999771118164]"
            ]
          },
          "metadata": {
            "tags": []
          },
          "execution_count": 29
        }
      ]
    },
    {
      "cell_type": "markdown",
      "metadata": {
        "id": "VdsHAOiZJiIH",
        "colab_type": "text"
      },
      "source": [
        "## Model Evaluation and Testing"
      ]
    },
    {
      "cell_type": "code",
      "metadata": {
        "id": "lM0K1qwwWI0G",
        "colab_type": "code",
        "colab": {
          "base_uri": "https://localhost:8080/",
          "height": 34
        },
        "outputId": "142bbc14-db8f-4d85-c363-685f7fe23a21"
      },
      "source": [
        "test = pd.read_csv('test.csv')\n",
        "test = test.values\n",
        "test = test / 255.0\n",
        "\n",
        "y_pred = model.predict(test)\n",
        "print(y_pred.shape)"
      ],
      "execution_count": 30,
      "outputs": [
        {
          "output_type": "stream",
          "text": [
            "(28000, 10)\n"
          ],
          "name": "stdout"
        }
      ]
    }
  ]
}